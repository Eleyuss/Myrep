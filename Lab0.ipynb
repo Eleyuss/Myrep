{
 "cells": [
  {
   "cell_type": "code",
   "execution_count": 12,
   "id": "57179aa7-0d2b-49f5-b4b9-c51b3c763569",
   "metadata": {},
   "outputs": [],
   "source": [
    "N = ord(\"b\") % 10 + 1"
   ]
  },
  {
   "cell_type": "code",
   "execution_count": 14,
   "id": "75bec5fb-171f-4ba9-a7d3-780d4776de28",
   "metadata": {},
   "outputs": [
    {
     "data": {
      "text/plain": [
       "9"
      ]
     },
     "execution_count": 14,
     "metadata": {},
     "output_type": "execute_result"
    }
   ],
   "source": [
    "N"
   ]
  },
  {
   "cell_type": "markdown",
   "id": "80911e01-3da9-4107-8893-4fafbc3693a7",
   "metadata": {
    "jp-MarkdownHeadingCollapsed": true
   },
   "source": [
    "<div style=\"border: 1px solid black; padding: 10px;\">\n",
    "<span style=\"color: red;\">**Чехія**</span> — це країна в Центральній Європі з площею <span style=\"color: blue;\">**78 866 км²**</span> і населенням <span style=\"color: green;\">**приблизно 10,7 мільйонів**</span> (станом на 2023 рік).\n",
    "</div>\n",
    "\n",
    "## Державний устрій\n",
    "<span style=\"color: purple;\">**Форма правління**</span>: Парламентська республіка. Глава держави — президент, глава уряду — прем'єр-міністр. <br>\n",
    "<span style=\"color: orange;\">**Столиця**</span>: Прага.\n",
    "\n",
    "## Видатні персоналії\n",
    "1. **Вацлав Гавел** — письменник і політичний діяч, перший президент Чехії.\n",
    "2. **Ян Гус** — богослов і реформатор, один з найвідоміших діячів чеської історії.\n",
    "\n",
    "## Пам'ятки культури та природи\n",
    "- **Карлів міст** — один з найстаріших мостів у Європі, архітектурний символ Праги.\n",
    "- **Національний парк Шумава** — мальовничий лісовий регіон на кордоні з Німеччиною.\n",
    "\n",
    "### Визначні місця:\n",
    "- **Культурні пам'ятки**:\n",
    "   - <span style=\"color: teal;\">Празький Град</span>\n",
    "   - Собор Святого Віта\n",
    "- **Природні пам'ятки**:\n",
    "   - Моравський карст\n",
    "   - Скелясті утвори в національному парку Чеська Швейцарія\n",
    "\n",
    "## Таблиця: Основні факти про Чехію\n",
    "| Параметр            | Значення        |\n",
    "|---------------------|-----------------|\n",
    "| Столиця             | <span style=\"color: darkorange;\">Прага</span>           |\n",
    "| Офіційна мова       | Чеська          |\n",
    "| ВВП (номінальний)   | $250 млрд       |\n",
    "| Населення           | <span style=\"color: blue;\">10,7 мільйонів</span>     |\n",
    "\n",
    "## Зображення природи та культури Чехії\n",
    "\n",
    "### Карлів міст\n",
    "![Карлів міст](https://encrypted-tbn0.gstatic.com/images?q=tbn:ANd9GcSdm8mWsMA035y7d9GViIZcbN6_is3hgv2cSw&s)\n",
    "\n",
    "### Празький Град\n",
    "![Празький Град](https://www.megatour.cz/uploads/images/%D0%9F%D1%80%D0%B0%D0%B6%D1%81%D0%BA%D0%B8%D0%B9-%D0%93%D1%80%D0%B0%D0%B4.jpg)\n",
    "\n",
    "## Корисні посилання\n",
    "- [Офіційний сайт уряду Чехії](https://www.vlada.cz/en/)\n"
   ]
  },
  {
   "cell_type": "markdown",
   "id": "508431e3-ea16-4469-9ff5-bd4216057383",
   "metadata": {},
   "source": [
    "## Прапор Чехії намальований за допомогою тегу `<svg>`\n",
    "\n",
    "<svg width=\"200\" height=\"100\" xmlns=\"http://www.w3.org/2000/svg\">\n",
    "  <!-- Білий трикутник -->\n",
    "  <polygon points=\"0,0 0,100 85,50\" fill=\"blue\" />\n",
    "  <!-- Верхня біла смуга -->\n",
    "  <rect x=\"85\" width=\"115\" height=\"50\" fill=\"white\" />\n",
    "  <!-- Нижня червона смуга -->\n",
    "  <rect x=\"85\" y=\"50\" width=\"115\" height=\"50\" fill=\"red\" />\n",
    "</svg>\n",
    "\n",
    "![Прапор Чехії](https://upload.wikimedia.org/wikipedia/commons/thumb/c/cb/Flag_of_the_Czech_Republic.svg/1200px-Flag_of_the_Czech_Republic.svg.png)"
   ]
  },
  {
   "cell_type": "code",
   "execution_count": 20,
   "id": "ab158717-2e93-4304-a471-33586ce8dc86",
   "metadata": {},
   "outputs": [],
   "source": [
    "def is_prime(n):\n",
    "    if n <= 1:\n",
    "        return False\n",
    "    for i in range(2, int(n**0.5) + 1):\n",
    "        if n % i == 0:\n",
    "            return False\n",
    "\n",
    "    return True\n",
    "\n",
    "def task_9():\n",
    "    try:\n",
    "        # Введення користувача, розділення на окремі елементи\n",
    "        nums = input(\"Введіть список чисел, розділених пробілом: \").split()\n",
    "        \n",
    "        # Перетворення на числа, якщо можливо\n",
    "        numbers = []\n",
    "        for num in nums:\n",
    "            try:\n",
    "                numbers.append(int(num))\n",
    "            except ValueError:\n",
    "                print(f\"Помилка. У списку присутнє нечислове значення: {num}\")\n",
    "                return\n",
    "        \n",
    "        # Фільтруємо непрості числа та сортуємо їх за зменшенням\n",
    "        non_primes = [n for n in numbers if not is_prime(n)]\n",
    "        non_primes.sort(reverse=True)\n",
    "        \n",
    "        print(non_primes)\n",
    "    \n",
    "    except Exception as e:\n",
    "        print(f\"Сталася помилка: {e}\")\n",
    "\n"
   ]
  },
  {
   "cell_type": "code",
   "execution_count": 24,
   "id": "377376b2-ecf1-42b2-9fe2-c698d0fc1612",
   "metadata": {},
   "outputs": [
    {
     "name": "stdin",
     "output_type": "stream",
     "text": [
      "Введіть список чисел, розділених пробілом:  3 12 15 7 11 35 18\n"
     ]
    },
    {
     "name": "stdout",
     "output_type": "stream",
     "text": [
      "[35, 18, 15, 12]\n"
     ]
    }
   ],
   "source": [
    "task_9()"
   ]
  },
  {
   "cell_type": "code",
   "execution_count": 28,
   "id": "7876b872-9eaa-41aa-95a1-d8b28387e247",
   "metadata": {},
   "outputs": [
    {
     "name": "stdin",
     "output_type": "stream",
     "text": [
      "Введіть список чисел, розділених пробілом:  0 34 2 1 15 22 4 23 6\n"
     ]
    },
    {
     "name": "stdout",
     "output_type": "stream",
     "text": [
      "[34, 22, 15, 6, 4, 1, 0]\n"
     ]
    }
   ],
   "source": [
    "task_9()"
   ]
  },
  {
   "cell_type": "code",
   "execution_count": 32,
   "id": "4603fb1c-9440-4a2b-87c6-24d87dcd176f",
   "metadata": {},
   "outputs": [
    {
     "name": "stdin",
     "output_type": "stream",
     "text": [
      "Введіть список чисел, розділених пробілом:  3 4 23 5 23 str 3 4\n"
     ]
    },
    {
     "name": "stdout",
     "output_type": "stream",
     "text": [
      "Помилка. У списку присутнє нечислове значення: str\n"
     ]
    }
   ],
   "source": [
    "task_9()\n"
   ]
  },
  {
   "cell_type": "code",
   "execution_count": null,
   "id": "4e9ba176-489c-4bca-95f3-a81b903a0b7d",
   "metadata": {},
   "outputs": [],
   "source": []
  },
  {
   "cell_type": "code",
   "execution_count": null,
   "id": "f61d8fbf-16f6-4198-b428-d7d725254fd0",
   "metadata": {},
   "outputs": [],
   "source": []
  }
 ],
 "metadata": {
  "kernelspec": {
   "display_name": "Python 3 (ipykernel)",
   "language": "python",
   "name": "python3"
  },
  "language_info": {
   "codemirror_mode": {
    "name": "ipython",
    "version": 3
   },
   "file_extension": ".py",
   "mimetype": "text/x-python",
   "name": "python",
   "nbconvert_exporter": "python",
   "pygments_lexer": "ipython3",
   "version": "3.12.4"
  }
 },
 "nbformat": 4,
 "nbformat_minor": 5
}
